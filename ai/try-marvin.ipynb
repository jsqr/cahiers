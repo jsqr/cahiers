{
 "cells": [
  {
   "cell_type": "code",
   "execution_count": 1,
   "metadata": {},
   "outputs": [
    {
     "name": "stdout",
     "output_type": "stream",
     "text": [
      "Requirement already satisfied: marvin in ./venv/lib/python3.12/site-packages (2.3.1)\n",
      "Requirement already satisfied: cachetools>=5 in ./venv/lib/python3.12/site-packages (from marvin) (5.3.3)\n",
      "Requirement already satisfied: fastapi in ./venv/lib/python3.12/site-packages (from marvin) (0.110.2)\n",
      "Requirement already satisfied: httpx>=0.24.1 in ./venv/lib/python3.12/site-packages (from marvin) (0.27.0)\n",
      "Requirement already satisfied: jinja2>=3.1.2 in ./venv/lib/python3.12/site-packages (from marvin) (3.1.3)\n",
      "Requirement already satisfied: jsonpatch>=1.33 in ./venv/lib/python3.12/site-packages (from marvin) (1.33)\n",
      "Requirement already satisfied: openai>=1.4.0 in ./venv/lib/python3.12/site-packages (from marvin) (1.23.6)\n",
      "Requirement already satisfied: prompt-toolkit>=3.0.33 in ./venv/lib/python3.12/site-packages (from marvin) (3.0.43)\n",
      "Requirement already satisfied: pydantic>=2.4.2 in ./venv/lib/python3.12/site-packages (from marvin) (2.7.1)\n",
      "Requirement already satisfied: pydantic-settings in ./venv/lib/python3.12/site-packages (from marvin) (2.2.1)\n",
      "Requirement already satisfied: rich>=12 in ./venv/lib/python3.12/site-packages (from marvin) (13.7.1)\n",
      "Requirement already satisfied: tiktoken>=0.4.0 in ./venv/lib/python3.12/site-packages (from marvin) (0.6.0)\n",
      "Requirement already satisfied: typer>=0.9.0 in ./venv/lib/python3.12/site-packages (from marvin) (0.12.3)\n",
      "Requirement already satisfied: typing-extensions>=4.0.0 in ./venv/lib/python3.12/site-packages (from marvin) (4.11.0)\n",
      "Requirement already satisfied: tzdata>=2023.3 in ./venv/lib/python3.12/site-packages (from marvin) (2024.1)\n",
      "Requirement already satisfied: uvicorn>=0.22.0 in ./venv/lib/python3.12/site-packages (from marvin) (0.29.0)\n",
      "Requirement already satisfied: partialjson>=0.0.5 in ./venv/lib/python3.12/site-packages (from marvin) (0.0.7)\n",
      "Requirement already satisfied: anyio in ./venv/lib/python3.12/site-packages (from httpx>=0.24.1->marvin) (4.3.0)\n",
      "Requirement already satisfied: certifi in ./venv/lib/python3.12/site-packages (from httpx>=0.24.1->marvin) (2024.2.2)\n",
      "Requirement already satisfied: httpcore==1.* in ./venv/lib/python3.12/site-packages (from httpx>=0.24.1->marvin) (1.0.5)\n",
      "Requirement already satisfied: idna in ./venv/lib/python3.12/site-packages (from httpx>=0.24.1->marvin) (3.7)\n",
      "Requirement already satisfied: sniffio in ./venv/lib/python3.12/site-packages (from httpx>=0.24.1->marvin) (1.3.1)\n",
      "Requirement already satisfied: h11<0.15,>=0.13 in ./venv/lib/python3.12/site-packages (from httpcore==1.*->httpx>=0.24.1->marvin) (0.14.0)\n",
      "Requirement already satisfied: MarkupSafe>=2.0 in ./venv/lib/python3.12/site-packages (from jinja2>=3.1.2->marvin) (2.1.5)\n",
      "Requirement already satisfied: jsonpointer>=1.9 in ./venv/lib/python3.12/site-packages (from jsonpatch>=1.33->marvin) (2.4)\n",
      "Requirement already satisfied: distro<2,>=1.7.0 in ./venv/lib/python3.12/site-packages (from openai>=1.4.0->marvin) (1.9.0)\n",
      "Requirement already satisfied: tqdm>4 in ./venv/lib/python3.12/site-packages (from openai>=1.4.0->marvin) (4.66.2)\n",
      "Requirement already satisfied: wcwidth in ./venv/lib/python3.12/site-packages (from prompt-toolkit>=3.0.33->marvin) (0.2.13)\n",
      "Requirement already satisfied: annotated-types>=0.4.0 in ./venv/lib/python3.12/site-packages (from pydantic>=2.4.2->marvin) (0.6.0)\n",
      "Requirement already satisfied: pydantic-core==2.18.2 in ./venv/lib/python3.12/site-packages (from pydantic>=2.4.2->marvin) (2.18.2)\n",
      "Requirement already satisfied: markdown-it-py>=2.2.0 in ./venv/lib/python3.12/site-packages (from rich>=12->marvin) (3.0.0)\n",
      "Requirement already satisfied: pygments<3.0.0,>=2.13.0 in ./venv/lib/python3.12/site-packages (from rich>=12->marvin) (2.17.2)\n",
      "Requirement already satisfied: regex>=2022.1.18 in ./venv/lib/python3.12/site-packages (from tiktoken>=0.4.0->marvin) (2024.4.16)\n",
      "Requirement already satisfied: requests>=2.26.0 in ./venv/lib/python3.12/site-packages (from tiktoken>=0.4.0->marvin) (2.31.0)\n",
      "Requirement already satisfied: click>=8.0.0 in ./venv/lib/python3.12/site-packages (from typer>=0.9.0->marvin) (8.1.7)\n",
      "Requirement already satisfied: shellingham>=1.3.0 in ./venv/lib/python3.12/site-packages (from typer>=0.9.0->marvin) (1.5.4)\n",
      "Requirement already satisfied: starlette<0.38.0,>=0.37.2 in ./venv/lib/python3.12/site-packages (from fastapi->marvin) (0.37.2)\n",
      "Requirement already satisfied: python-dotenv>=0.21.0 in ./venv/lib/python3.12/site-packages (from pydantic-settings->marvin) (1.0.1)\n",
      "Requirement already satisfied: mdurl~=0.1 in ./venv/lib/python3.12/site-packages (from markdown-it-py>=2.2.0->rich>=12->marvin) (0.1.2)\n",
      "Requirement already satisfied: charset-normalizer<4,>=2 in ./venv/lib/python3.12/site-packages (from requests>=2.26.0->tiktoken>=0.4.0->marvin) (3.3.2)\n",
      "Requirement already satisfied: urllib3<3,>=1.21.1 in ./venv/lib/python3.12/site-packages (from requests>=2.26.0->tiktoken>=0.4.0->marvin) (2.2.1)\n",
      "Note: you may need to restart the kernel to use updated packages.\n"
     ]
    }
   ],
   "source": [
    "%pip install marvin"
   ]
  },
  {
   "cell_type": "code",
   "execution_count": 2,
   "metadata": {},
   "outputs": [],
   "source": [
    "import marvin"
   ]
  },
  {
   "cell_type": "code",
   "execution_count": 3,
   "metadata": {},
   "outputs": [
    {
     "name": "stdout",
     "output_type": "stream",
     "text": [
      "Help on function classify in module marvin.ai.text:\n",
      "\n",
      "classify(data: str, labels: Union[enum.Enum, list[~T], type], instructions: str = None, model_kwargs: dict = None, client: Optional[marvin.client.openai.AsyncMarvinClient] = None) -> ~T\n",
      "    Classifies the provided data based on the provided labels.\n",
      "\n",
      "    This function uses a language model with a logit bias to classify the input\n",
      "    data. The logit bias constrains the language model's response to a single\n",
      "    token, making this function highly efficient for classification tasks. The\n",
      "    function will always return one of the provided labels.\n",
      "\n",
      "    Args:\n",
      "        data (str): The data to be classified.\n",
      "        labels (Union[Enum, list[T], type]): The labels to classify the data into.\n",
      "        instructions (str, optional): Specific instructions for the\n",
      "            classification. Defaults to None.\n",
      "        model_kwargs (dict, optional): Additional keyword arguments for the\n",
      "            language model. Defaults to None.\n",
      "        client (AsyncMarvinClient, optional): The client to use for the AI function.\n",
      "\n",
      "    Returns:\n",
      "        T: The label that the data was classified into.\n",
      "\n"
     ]
    }
   ],
   "source": [
    "help(marvin.classify)"
   ]
  },
  {
   "cell_type": "code",
   "execution_count": 4,
   "metadata": {},
   "outputs": [],
   "source": [
    "def get_sentiment(text: str) -> str:\n",
    "    return marvin.classify(text, labels=['positive', 'negative', 'neutral'])"
   ]
  },
  {
   "cell_type": "code",
   "execution_count": 5,
   "metadata": {},
   "outputs": [
    {
     "name": "stdout",
     "output_type": "stream",
     "text": [
      "Review: This is the best product ever!\n",
      "Sentiment: positive\n",
      "\n",
      "Review: This is the best product ever ... in hell!\n",
      "Sentiment: negative\n",
      "\n",
      "Review: This is product is more or less fine.\n",
      "Sentiment: neutral\n",
      "\n"
     ]
    }
   ],
   "source": [
    "reviews = [\n",
    "    \"This is the best product ever!\",\n",
    "    \"This is the best product ever ... in hell!\",\n",
    "    \"This is product is more or less fine.\",\n",
    "]\n",
    "for review in reviews:\n",
    "    sentiment = get_sentiment(review)\n",
    "    print(f\"Review: {review}\")\n",
    "    print(f\"Sentiment: {sentiment}\")\n",
    "    print()"
   ]
  },
  {
   "cell_type": "code",
   "execution_count": 6,
   "metadata": {},
   "outputs": [
    {
     "data": {
      "text/plain": [
       "['Labrador Retriever',\n",
       " 'German Shepherd',\n",
       " 'Golden Retriever',\n",
       " 'Bulldog',\n",
       " 'Beagle']"
      ]
     },
     "execution_count": 6,
     "metadata": {},
     "output_type": "execute_result"
    }
   ],
   "source": [
    "@marvin.fn\n",
    "def list_dog_breeds(n:int) -> list[str]:\n",
    "    '''generates a list of n dog breeds'''\n",
    "\n",
    "list_dog_breeds(5)"
   ]
  },
  {
   "cell_type": "code",
   "execution_count": 7,
   "metadata": {},
   "outputs": [],
   "source": [
    "def find_names(text:str) -> list[str]:\n",
    "    '''finds names in text'''\n",
    "    return marvin.extract(text, instructions=\"Identify names of people (not places or organizations)\")"
   ]
  },
  {
   "cell_type": "code",
   "execution_count": 9,
   "metadata": {},
   "outputs": [
    {
     "data": {
      "text/plain": [
       "['John']"
      ]
     },
     "execution_count": 9,
     "metadata": {},
     "output_type": "execute_result"
    }
   ],
   "source": [
    "find_names(\"My name is John and I live in New York\")"
   ]
  },
  {
   "cell_type": "code",
   "execution_count": 10,
   "metadata": {},
   "outputs": [],
   "source": [
    "def sorting_hat(description: str) -> str:\n",
    "    '''Sorts a new Hogwarts student into one of the four houses according \n",
    "    to the description provided.'''\n",
    "    return marvin.classify(description, labels=['Gryffindor', 'Hufflepuff', 'Ravenclaw', 'Slytherin'])"
   ]
  },
  {
   "cell_type": "code",
   "execution_count": 11,
   "metadata": {},
   "outputs": [
    {
     "data": {
      "text/plain": [
       "'Ravenclaw'"
      ]
     },
     "execution_count": 11,
     "metadata": {},
     "output_type": "execute_result"
    }
   ],
   "source": [
    "sorting_hat(\"\"\"\n",
    "            Clever, but with a somewhat short attention span and a tendency to\n",
    "            dreaminess; essentially reliable but sometimes forgetful or distracted.\"\"\")"
   ]
  },
  {
   "cell_type": "code",
   "execution_count": 12,
   "metadata": {},
   "outputs": [
    {
     "data": {
      "text/plain": [
       "'Slytherin'"
      ]
     },
     "execution_count": 12,
     "metadata": {},
     "output_type": "execute_result"
    }
   ],
   "source": [
    "sorting_hat(\"\"\"Ambitious, cunning, and a bit ruthless.\"\"\")"
   ]
  },
  {
   "cell_type": "code",
   "execution_count": 13,
   "metadata": {},
   "outputs": [
    {
     "data": {
      "text/plain": [
       "'Hufflepuff'"
      ]
     },
     "execution_count": 13,
     "metadata": {},
     "output_type": "execute_result"
    }
   ],
   "source": [
    "sorting_hat(\"\"\"Hardworking and loyal, but perhaps a bit dull\"\"\")"
   ]
  },
  {
   "cell_type": "code",
   "execution_count": null,
   "metadata": {},
   "outputs": [],
   "source": []
  }
 ],
 "metadata": {
  "kernelspec": {
   "display_name": "venv",
   "language": "python",
   "name": "python3"
  },
  "language_info": {
   "codemirror_mode": {
    "name": "ipython",
    "version": 3
   },
   "file_extension": ".py",
   "mimetype": "text/x-python",
   "name": "python",
   "nbconvert_exporter": "python",
   "pygments_lexer": "ipython3",
   "version": "3.12.3"
  }
 },
 "nbformat": 4,
 "nbformat_minor": 2
}
